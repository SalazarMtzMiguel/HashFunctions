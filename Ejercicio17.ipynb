{
 "cells": [
  {
   "metadata": {},
   "cell_type": "markdown",
   "source": [
    "# Este es un compilado de pasos para resolver el inciso 17 de la tares\n",
    "## Arias Michel y Salazar Martinez\n",
    "\n",
    "El ejercicio se hara en basse a un dataset de kaggle\n",
    "https://www.kaggle.com/datasets/bhanupratapbiswas/olympic-data/data\n",
    "\n"
   ],
   "id": "d28b7f040a58511b"
  }
 ],
 "metadata": {
  "kernelspec": {
   "display_name": "Python 3",
   "language": "python",
   "name": "python3"
  },
  "language_info": {
   "codemirror_mode": {
    "name": "ipython",
    "version": 2
   },
   "file_extension": ".py",
   "mimetype": "text/x-python",
   "name": "python",
   "nbconvert_exporter": "python",
   "pygments_lexer": "ipython2",
   "version": "2.7.6"
  }
 },
 "nbformat": 4,
 "nbformat_minor": 5
}
